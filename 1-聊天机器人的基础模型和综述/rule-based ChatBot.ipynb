{
 "cells": [
  {
   "cell_type": "code",
   "execution_count": 1,
   "metadata": {},
   "outputs": [
    {
     "name": "stdout",
     "output_type": "stream",
     "text": [
      ">>> hello\n",
      "hey\n",
      ">>> how are you\n",
      "I did not understand what you said\n",
      ">>> How are you?\n",
      "Okay\n",
      ">>> bye\n"
     ]
    }
   ],
   "source": [
    "import random\n",
    "\n",
    "# 打招呼\n",
    "greetings = ['hola', 'hello', 'hi', 'Hi', 'hey!','hey']\n",
    "# 回复打招呼\n",
    "random_greeting = random.choice(greetings)\n",
    "\n",
    "# 对于“你怎么样？”这个问题的回复\n",
    "question = ['How are you?','How are you doing?']\n",
    "# “我很好”\n",
    "responses = ['Okay',\"I'm fine\"]\n",
    "# 随机选一个回\n",
    "random_response = random.choice(responses)\n",
    "\n",
    "# 机器人跑起来\n",
    "while True:\n",
    "    userInput = input(\">>> \")\n",
    "    if userInput in greetings:\n",
    "        print(random_greeting)\n",
    "    elif userInput in question:\n",
    "        print(random_response)\n",
    "    # 除非你说“拜拜”\n",
    "    elif userInput == 'bye':\n",
    "        break\n",
    "    else:\n",
    "        print(\"I did not understand what you said\")"
   ]
  },
  {
   "cell_type": "code",
   "execution_count": 2,
   "metadata": {},
   "outputs": [
    {
     "name": "stdout",
     "output_type": "stream",
     "text": [
      ">>> hi\n",
      "hello\n",
      ">>> holiday\n",
      "Sadly, I just stayed at home\n",
      ">>> bye\n"
     ]
    }
   ],
   "source": [
    "from nltk import word_tokenize\n",
    "import random\n",
    "\n",
    "# 打招呼\n",
    "greetings = ['hola', 'hello', 'hi', 'Hi', 'hey!','hey']\n",
    "# 回复打招呼\n",
    "random_greeting = random.choice(greetings)\n",
    "\n",
    "# 对于“假期”的话题关键词\n",
    "question = ['break','holiday','vacation','weekend']\n",
    "# 回复假期话题\n",
    "responses = ['It was nice! I went to Paris',\"Sadly, I just stayed at home\"]\n",
    "# 随机选一个回\n",
    "random_response = random.choice(responses)\n",
    "\n",
    "\n",
    "\n",
    "# 机器人跑起来\n",
    "while True:\n",
    "    userInput = input(\">>> \")\n",
    "    # 清理一下输入，看看都有哪些词\n",
    "    cleaned_input = word_tokenize(userInput)\n",
    "    # 这里，我们比较一下关键词，确定他属于哪个问题\n",
    "    if  not set(cleaned_input).isdisjoint(greetings):\n",
    "        print(random_greeting)\n",
    "    elif not set(cleaned_input).isdisjoint(question):\n",
    "        print(random_response)\n",
    "    # 除非你说“拜拜”\n",
    "    elif userInput == 'bye':\n",
    "        break\n",
    "    else:\n",
    "        print(\"I did not understand what you said\")"
   ]
  },
  {
   "cell_type": "code",
   "execution_count": 3,
   "metadata": {
    "collapsed": true
   },
   "outputs": [],
   "source": [
    "# 建立一个基于目标行业的database\n",
    "# 比如 这里我们用python自带的graph\n",
    "graph = {'上海': ['苏州', '常州'],\n",
    "         '苏州': ['常州', '镇江'],\n",
    "         '常州': ['镇江'],\n",
    "         '镇江': ['常州'],\n",
    "         '盐城': ['南通'],\n",
    "         '南通': ['常州']}\n",
    "\n",
    "# 明确如何找到从A到B的路径\n",
    "def find_path(start, end, path=[]):\n",
    "    path = path + [start]\n",
    "    if start == end:\n",
    "        return path\n",
    "    if start not in graph:\n",
    "        return None\n",
    "    for node in graph[start]:\n",
    "        if node not in path:\n",
    "            newpath = find_path(node, end, path)\n",
    "            if newpath: return newpath\n",
    "    return None"
   ]
  },
  {
   "cell_type": "code",
   "execution_count": 5,
   "metadata": {},
   "outputs": [
    {
     "name": "stdout",
     "output_type": "stream",
     "text": [
      "['上海', '苏州', '常州', '镇江']\n"
     ]
    }
   ],
   "source": [
    "print(find_path('上海', \"镇江\"))"
   ]
  },
  {
   "cell_type": "code",
   "execution_count": 6,
   "metadata": {},
   "outputs": [
    {
     "ename": "ModuleNotFoundError",
     "evalue": "No module named 'gtts'",
     "output_type": "error",
     "traceback": [
      "\u001b[1;31m---------------------------------------------------------------------------\u001b[0m",
      "\u001b[1;31mModuleNotFoundError\u001b[0m                       Traceback (most recent call last)",
      "\u001b[1;32m<ipython-input-6-f9be2cf09b09>\u001b[0m in \u001b[0;36m<module>\u001b[1;34m()\u001b[0m\n\u001b[1;32m----> 1\u001b[1;33m \u001b[1;32mfrom\u001b[0m \u001b[0mgtts\u001b[0m \u001b[1;32mimport\u001b[0m \u001b[0mgTTS\u001b[0m\u001b[1;33m\u001b[0m\u001b[0m\n\u001b[0m\u001b[0;32m      2\u001b[0m \u001b[1;32mimport\u001b[0m \u001b[0mos\u001b[0m\u001b[1;33m\u001b[0m\u001b[0m\n\u001b[0;32m      3\u001b[0m \u001b[0mtts\u001b[0m \u001b[1;33m=\u001b[0m \u001b[0mgTTS\u001b[0m\u001b[1;33m(\u001b[0m\u001b[0mtext\u001b[0m\u001b[1;33m=\u001b[0m\u001b[1;34m'您好，我是您的私人助手，我叫小辣椒'\u001b[0m\u001b[1;33m,\u001b[0m \u001b[0mlang\u001b[0m\u001b[1;33m=\u001b[0m\u001b[1;34m'zh-tw'\u001b[0m\u001b[1;33m)\u001b[0m\u001b[1;33m\u001b[0m\u001b[0m\n\u001b[0;32m      4\u001b[0m \u001b[0mtts\u001b[0m\u001b[1;33m.\u001b[0m\u001b[0msave\u001b[0m\u001b[1;33m(\u001b[0m\u001b[1;34m\"hello.mp3\"\u001b[0m\u001b[1;33m)\u001b[0m\u001b[1;33m\u001b[0m\u001b[0m\n\u001b[0;32m      5\u001b[0m \u001b[0mos\u001b[0m\u001b[1;33m.\u001b[0m\u001b[0msystem\u001b[0m\u001b[1;33m(\u001b[0m\u001b[1;34m\"mpg321 hello.mp3\"\u001b[0m\u001b[1;33m)\u001b[0m\u001b[1;33m\u001b[0m\u001b[0m\n",
      "\u001b[1;31mModuleNotFoundError\u001b[0m: No module named 'gtts'"
     ]
    }
   ],
   "source": [
    "from gtts import gTTS\n",
    "import os\n",
    "tts = gTTS(text='您好，我是您的私人助手，我叫小辣椒', lang='zh-tw')\n",
    "tts.save(\"hello.mp3\")\n",
    "os.system(\"mpg321 hello.mp3\")"
   ]
  },
  {
   "cell_type": "code",
   "execution_count": null,
   "metadata": {
    "collapsed": true
   },
   "outputs": [],
   "source": []
  }
 ],
 "metadata": {
  "kernelspec": {
   "display_name": "Python 3",
   "language": "python",
   "name": "python3"
  },
  "language_info": {
   "codemirror_mode": {
    "name": "ipython",
    "version": 3
   },
   "file_extension": ".py",
   "mimetype": "text/x-python",
   "name": "python",
   "nbconvert_exporter": "python",
   "pygments_lexer": "ipython3",
   "version": "3.6.1"
  }
 },
 "nbformat": 4,
 "nbformat_minor": 2
}
